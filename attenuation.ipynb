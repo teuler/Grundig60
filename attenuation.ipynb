{
  "nbformat": 4,
  "nbformat_minor": 0,
  "metadata": {
    "colab": {
      "name": "attenuation.ipynb",
      "provenance": [],
      "collapsed_sections": [],
      "include_colab_link": true
    },
    "kernelspec": {
      "name": "python3",
      "display_name": "Python 3"
    }
  },
  "cells": [
    {
      "cell_type": "markdown",
      "metadata": {
        "id": "view-in-github",
        "colab_type": "text"
      },
      "source": [
        "<a href=\"https://colab.research.google.com/github/teuler/Grundig60/blob/master/attenuation.ipynb\" target=\"_parent\"><img src=\"https://colab.research.google.com/assets/colab-badge.svg\" alt=\"Open In Colab\"/></a>"
      ]
    },
    {
      "cell_type": "markdown",
      "metadata": {
        "id": "3lqK_jRFOUFA"
      },
      "source": [
        "### Purpose of this notebook\r\n",
        "\r\n",
        "This notebook estimates the excitation (as photoisomerization rate at the photoreceptor level) that is expected to be caused by the images recorded with the UV/G mouse camera."
      ]
    },
    {
      "cell_type": "code",
      "metadata": {
        "id": "sWdGijoC5X4w"
      },
      "source": [
        "import numpy as np\r\n",
        "import pandas as pd\r\n",
        "import matplotlib.pyplot as plt\r\n",
        "import seaborn\r\n",
        "\r\n",
        "# Global dictionary\r\n",
        "d = dict()\r\n",
        "\r\n",
        "# Global constants\r\n",
        "TWILIGHT = 0\r\n",
        "DAYLIGHT = 1\r\n",
        "\r\n",
        "UV_S     = 0\r\n",
        "UV_M     = 1\r\n",
        "G_S      = 2\r\n",
        "G_M      = 3\r\n",
        "\r\n",
        "CHAN_UV  = 0\r\n",
        "CHAN_G   = 1"
      ],
      "execution_count": null,
      "outputs": []
    },
    {
      "cell_type": "markdown",
      "metadata": {
        "id": "4FlPX8oieyej"
      },
      "source": [
        "### Approach\r\n",
        "\r\n",
        "When calibrating the mouse camera, we used LEDs of defined wavelength and brightness to mapped normalized intensity (camera pixel values, 0..1) to power meter readings (see STAR Methods in the manuscript). To relate this power to the photon flux at the cornea and finally the photoisomerisation rate at the photoreceptor level, we need to consider:  \r\n",
        "\r\n",
        "* How much light we loose in the camera, that is, we need the optical paths´ **attenuation factors** from the fisheye lens to the camera chip for the UV ($ \\mu_{lens2cam,UV} $) and green ($ \\mu_{lens2cam,G} $) channel;  \r\n",
        "\r\n",
        "* The wavelength-specific **transmission of mouse optical aparatus** for UV ($T_{UV}$) and green ($T_G$) light;\r\n",
        "\r\n",
        "* The **ratio between pupil size and retinal area** ($R_{pup2ret}$) to estimate, how much light reaches the retina giving the pupil adapts to the overall brightness of the scene.  \r\n",
        "\r\n",
        "Our approch consists of two main steps:\r\n",
        "\r\n",
        "1. We first map electrical power ($P_{el}$, in $[W]$) to photon flux ($P_{Phi}$, in $[photons/s]$),  \r\n",
        "\r\n",
        "   $$\r\n",
        "   P_{Phi}(\\lambda) = \\frac{P_{el}(\\lambda) \\cdot a \\cdot \\lambda \\cdot 10^{-9}} {c \\cdot h }\\cdot \\frac{1}{\\mu_{lens2cam}(\\lambda)}.\r\n",
        "   $$  \r\n",
        "\r\n",
        "   For $\\lambda$, we use the peak wavelength of the photoreceptor's spectral sensitivity curve ($\\lambda_{S}=360 \\: nm$, $\\lambda_{M}=510 \\: nm$). \r\n",
        "   \r\n",
        "   The rest are constants ($a=6.2421018 \\: eV/J$, $c=299,792,458 \\: m/s$, and $h=4.135667 \\cdot10^{-15} \\: eV/s$).  \r\n",
        "\r\n",
        "2. Next, we convert the photon flux to photoisomerisation rate ($R_{Iso}$, in $[P^*/cone/s]$),\r\n",
        "\r\n",
        "  $$\r\n",
        "  R_{Iso}(\\lambda) = \\frac{P_{Phi}(\\lambda)}{A_{Stim}} \\cdot A_{Collect} \\cdot S_{Act} \\cdot T(\\lambda) \\cdot R_{pup2ret}\r\n",
        "  $$\r\n",
        "\r\n",
        "  where $A_{Stim}=10^8 \\: \\mu m^2$ is area that is iluminated on the power meter sensor, and $A_{Collect}=0.2 \\: \\mu m^2$ the photoreceptor's outer segment (OS) light collection area (see below).\r\n",
        "\r\n",
        "  With $S_{Act}$ we take into account that the bandpass filters in the camera pathways do not perfectly match these sensitivity spectra (see below).\r\n",
        "\r\n",
        "  > Note: The OS light collection area ($[\\mu m^2]$) an experimentally determined value, e.g. for wt mouse cones that are fully dark-adapted, a value of 0.2 is be assumed; for mouse rods, a value of 0.5 is considered realistic (for details, see [Nikonov et al., 2006](http://www.ncbi.nlm.nih.gov/pubmed/16567464)). "
      ]
    },
    {
      "cell_type": "code",
      "metadata": {
        "id": "p5JaX9x6u9mc"
      },
      "source": [
        "d.update({\"ac_um2\": 0.2, \"peak_S\": 360, \"peak_M\": 510, \"A_stim_um2\": 1e8})"
      ],
      "execution_count": null,
      "outputs": []
    },
    {
      "cell_type": "markdown",
      "metadata": {
        "id": "HCkrQShJOpzy"
      },
      "source": [
        "### Attenuation factors of the two camera pathways\r\n",
        "\r\n",
        "We first calculated the attenuation factor from the fisheye lens to the focal plane of the camera chip. \r\n",
        "\r\n",
        "To this end, we used a spectrometer (STS-UV, Ocean Optics) with an optical fiber (P50-1-UV-VIS) to first measure the spectrum of the sky directly, and then at the camera focal planes of the UV and the green pathways. These readouts, which are spectra, are referred to as $P_{direct}$, $P_{UV}$ and $P_{G}$. "
      ]
    },
    {
      "cell_type": "code",
      "metadata": {
        "colab": {
          "base_uri": "https://localhost:8080/"
        },
        "id": "xOMrbSnkilNJ",
        "outputId": "75f17c10-e7d7-4a11-96b3-44148765d12e"
      },
      "source": [
        "#!wget -O sky_spectrum.npy https://github.com/eulerlab/mouse-scene-cam/blob/master/calibration/data/sky_spectrum.npy\r\n",
        "!wget -O sky_spectrum.npy https://www.dropbox.com/s/p8uk4k6losfu309/sky_spectrum.npy?dl=0"
      ],
      "execution_count": null,
      "outputs": [
        {
          "output_type": "stream",
          "text": [
            "--2021-03-09 19:53:51--  https://www.dropbox.com/s/p8uk4k6losfu309/sky_spectrum.npy?dl=0\n",
            "Resolving www.dropbox.com (www.dropbox.com)... 162.125.5.18, 2620:100:601d:18::a27d:512\n",
            "Connecting to www.dropbox.com (www.dropbox.com)|162.125.5.18|:443... connected.\n",
            "HTTP request sent, awaiting response... 301 Moved Permanently\n",
            "Location: /s/raw/p8uk4k6losfu309/sky_spectrum.npy [following]\n",
            "--2021-03-09 19:53:52--  https://www.dropbox.com/s/raw/p8uk4k6losfu309/sky_spectrum.npy\n",
            "Reusing existing connection to www.dropbox.com:443.\n",
            "HTTP request sent, awaiting response... 302 Found\n",
            "Location: https://ucb6e04146a20e5b88cb1097c868.dl.dropboxusercontent.com/cd/0/inline/BKaVZJWfvhyRDUBgcNQ7Disp9MTZDvRUICzqBvkWAy9lceBwAYhQG0pFBHPV_yu_8hpN9IuWpJ9aAYX5syzY44PYBkZ53h7-xD0Xk8zWJDjDofPM9GTK6f2Pank5jHsnWmlocZtm4RywowdI9yp5zmPQ/file# [following]\n",
            "--2021-03-09 19:53:52--  https://ucb6e04146a20e5b88cb1097c868.dl.dropboxusercontent.com/cd/0/inline/BKaVZJWfvhyRDUBgcNQ7Disp9MTZDvRUICzqBvkWAy9lceBwAYhQG0pFBHPV_yu_8hpN9IuWpJ9aAYX5syzY44PYBkZ53h7-xD0Xk8zWJDjDofPM9GTK6f2Pank5jHsnWmlocZtm4RywowdI9yp5zmPQ/file\n",
            "Resolving ucb6e04146a20e5b88cb1097c868.dl.dropboxusercontent.com (ucb6e04146a20e5b88cb1097c868.dl.dropboxusercontent.com)... 162.125.5.15, 2620:100:601d:15::a27d:50f\n",
            "Connecting to ucb6e04146a20e5b88cb1097c868.dl.dropboxusercontent.com (ucb6e04146a20e5b88cb1097c868.dl.dropboxusercontent.com)|162.125.5.15|:443... connected.\n",
            "HTTP request sent, awaiting response... 302 Found\n",
            "Location: /cd/0/inline2/BKZ5UZZvBjf7Os3VAdgIX1KGAvJvfdpHSJIR_I0yA4aVozPKk9SeyLdSStwrDMxTD7-fneO9GZvILBQImt5CbzI2BgsYe9aj8xfofgigi_NtH_TsyXZk-6ai5MYbcuweTScaLUFpJiEXv13M8hTSEXnorihVq9-xbovUiU7ZGsKSoUM-doWD2OMGfwiNh9yzTn31mFMZxIIWeVrbnWY_OYSeCgeL_YPhd1CKHoqDVZzkA3aRJJZNWDHuOry7N-mad7wJ2IXBZS9LuwHXxE4I07Q1jnHY_5kApqdp7ozDn6D2QxsqvQXLKQmat0n4MPs9IJDnJy0g6pP9scf_JK2iV3e8WBhoWSje2I3Ztwkg9ZCjuk2zNLZM90hKGxqL9viBykI/file [following]\n",
            "--2021-03-09 19:53:53--  https://ucb6e04146a20e5b88cb1097c868.dl.dropboxusercontent.com/cd/0/inline2/BKZ5UZZvBjf7Os3VAdgIX1KGAvJvfdpHSJIR_I0yA4aVozPKk9SeyLdSStwrDMxTD7-fneO9GZvILBQImt5CbzI2BgsYe9aj8xfofgigi_NtH_TsyXZk-6ai5MYbcuweTScaLUFpJiEXv13M8hTSEXnorihVq9-xbovUiU7ZGsKSoUM-doWD2OMGfwiNh9yzTn31mFMZxIIWeVrbnWY_OYSeCgeL_YPhd1CKHoqDVZzkA3aRJJZNWDHuOry7N-mad7wJ2IXBZS9LuwHXxE4I07Q1jnHY_5kApqdp7ozDn6D2QxsqvQXLKQmat0n4MPs9IJDnJy0g6pP9scf_JK2iV3e8WBhoWSje2I3Ztwkg9ZCjuk2zNLZM90hKGxqL9viBykI/file\n",
            "Reusing existing connection to ucb6e04146a20e5b88cb1097c868.dl.dropboxusercontent.com:443.\n",
            "HTTP request sent, awaiting response... 200 OK\n",
            "Length: 10411 (10K) [application/octet-stream]\n",
            "Saving to: ‘sky_spectrum.npy’\n",
            "\n",
            "sky_spectrum.npy    100%[===================>]  10.17K  --.-KB/s    in 0s      \n",
            "\n",
            "2021-03-09 19:53:53 (72.5 MB/s) - ‘sky_spectrum.npy’ saved [10411/10411]\n",
            "\n"
          ],
          "name": "stdout"
        }
      ]
    },
    {
      "cell_type": "code",
      "metadata": {
        "colab": {
          "base_uri": "https://localhost:8080/",
          "height": 296
        },
        "id": "-DBHF8jhE_jq",
        "outputId": "6d60dbeb-62ba-4fb4-e689-2811f5370f78"
      },
      "source": [
        "# Load spectra\r\n",
        "# The exposure times were 4 s for `direct` and `g`, and 30 s for `uv`\r\n",
        "spect = np.load('sky_spectrum.npy', allow_pickle=True).item() \r\n",
        "\r\n",
        "fig,axes=plt.subplots(nrows=1,ncols=1,figsize=(4,4))\r\n",
        "axes.plot(spect[\"wavelength\"], spect[\"direct\"], color='k', label='P_Direct')\r\n",
        "axes.plot(spect[\"wavelength\"], spect[\"g\"], color='g', label='P_G')\r\n",
        "axes.plot(spect[\"wavelength\"], spect[\"uv\"], color='purple',label='P_UV')\r\n",
        "axes.set_xlabel (\"Wavelength [nm]\")\r\n",
        "axes.set_ylabel(\"Counts\")\r\n",
        "axes.grid()\r\n",
        "axes.legend(loc='upper right', bbox_to_anchor=(1.6, 1.0))"
      ],
      "execution_count": null,
      "outputs": [
        {
          "output_type": "execute_result",
          "data": {
            "text/plain": [
              "<matplotlib.legend.Legend at 0x7f094c83c990>"
            ]
          },
          "metadata": {
            "tags": []
          },
          "execution_count": 4
        },
        {
          "output_type": "display_data",
          "data": {
            "image/png": "[encoded data removed]",
            "text/plain": [
              "<Figure size 288x288 with 1 Axes>"
            ]
          },
          "metadata": {
            "tags": [],
            "needs_background": "light"
          }
        }
      ]
    },
    {
      "cell_type": "markdown",
      "metadata": {
        "id": "J2mNaIM2gMv9"
      },
      "source": [
        "Since the readout on the objective side (fisheye lens) is related to both visual angle and area, while the readout on the imaging side is only related to area, we define:\r\n",
        "\r\n",
        "$$\r\n",
        "\\begin{align}\r\n",
        "P_{direct} &= P_{total} \\cdot \\frac{A_{fiber}}{A_{lens}} \\cdot \\frac{\\theta_{fiber}}{\\theta_{lens}}\\\\\r\n",
        "P_{UV} &= P_{total} \\cdot \\frac{A_{fiber}}{A_{chip}} \\cdot \\mu_{lens2cam,UV}\\\\\r\n",
        "P_{G} &= P_{total} \\cdot \\frac{A_{fiber}}{A_{chip}} \\cdot \\mu_{lens2cam,G}\r\n",
        "\\end{align}\r\n",
        "$$  \r\n",
        "\r\n",
        "where $P_{total}$ denotes the total power of the incident light at the fisheye lens, $A_{fiber}$ the area of the fibre, $A_{lens}$ the area of the fisheye lens, $A_{chip}$ the imaging area of the camera chip, and $\\theta_{fiber}$ and $\\theta_{lens}$ the acceptance angles of fiber and fisheye lens, respectively.  \r\n",
        "\r\n",
        "After rearranging the equations, we get:  \r\n",
        "\r\n",
        "$$\r\n",
        "\\begin{align}\r\n",
        "\\mu_{lens2cam,UV} &= \\frac{P_{UV}}{P_{direct}} \\cdot \\frac{A_{cam}}{A_{lens}} \\cdot \\frac{\\theta_{fiber}}{\\theta_{lens}}\\\\\r\n",
        "\\mu_{lens2cam,G}  &= \\frac{P_{G}}{P_{direct}} \\cdot \\frac{A_{cam}}{A_{lens}} \\cdot \\frac{\\theta_{fiber}}{\\theta_{lens}}\r\n",
        "\\end{align}\r\n",
        "$$   \r\n",
        "\r\n",
        "By calculating the ratio between the area under curve (AUC) of the spectrum for the respective chromatic channel (within in the spectral range of the respective bandpass filter) and the AUC of the spectrum for the direct measurement, we get:\r\n",
        "\r\n",
        "$$\r\n",
        "\\frac{P_{UV}}{P_{direct}} = \\frac{1}{21}, \\frac{P_{G}}{P_{direct}} = \\frac{1}{2}\r\n",
        "$$ \r\n",
        "\r\n",
        "Practically, we also take the different exposure times (4 s for $P_{direct}$ and $P_{G}$, and 30 s for $P_{UV}$) into account."
      ]
    },
    {
      "cell_type": "code",
      "metadata": {
        "colab": {
          "base_uri": "https://localhost:8080/"
        },
        "id": "jgZiNZkUQ-Jj",
        "outputId": "041705ef-dbd6-4e61-b331-fdc7cb2bf3d3"
      },
      "source": [
        "direct_exp_s = 4\r\n",
        "UV_exp_s = 30\r\n",
        "G_exp_s = 4 \r\n",
        "P_UV2direct = 1/(np.trapz(spect[\"direct\"][350-300:420-300])/np.trapz(spect[\"uv\"][350-300:420-300])* UV_exp_s/direct_exp_s) \r\n",
        "P_G2direct = 1/(np.trapz(spect[\"direct\"][470-300:550-300])/np.trapz(spect[\"g\"][470-300:550-300])* G_exp_s/direct_exp_s) \r\n",
        "\r\n",
        "print(\"P_UV/P_direct = {0:.3f}\".format(P_UV2direct))\r\n",
        "print(\"P_G/P_direct  = {0:.3f}\".format(P_G2direct))"
      ],
      "execution_count": null,
      "outputs": [
        {
          "output_type": "stream",
          "text": [
            "P_UV/P_direct = 0.047\n",
            "P_G/P_direct  = 0.533\n"
          ],
          "name": "stdout"
        }
      ]
    },
    {
      "cell_type": "markdown",
      "metadata": {
        "id": "jh5YTKopR6Fs"
      },
      "source": [
        "\r\n",
        "The diameters of the camera chip's imaging area and the fisheye lens were $2,185 \\: \\mu m$ and $15,000 \\: \\mu m$, respectively. The acception angles of the optical fiber and the fisheye lens were $\\theta_{fibre}=24.8^{\\circ}$ and $\\theta_{lens}=180^{\\circ}$, respectively."
      ]
    },
    {
      "cell_type": "code",
      "metadata": {
        "id": "NjZ3eljSgKYD"
      },
      "source": [
        "A_cam = np.pi*(2185/2)**2\r\n",
        "A_lens = np.pi*(15000/2)**2\r\n",
        "theta_fiber = 24.8 \r\n",
        "theta_lens = 180"
      ],
      "execution_count": null,
      "outputs": []
    },
    {
      "cell_type": "markdown",
      "metadata": {
        "id": "e_WcOY58TXVf"
      },
      "source": [
        "Now we can get the attenuation factors $ \\mu_{lens2cam,UV} $ and $ \\mu_{lens2cam,G} $, covering the optical path from the fisheye lens to the camera chip: "
      ]
    },
    {
      "cell_type": "code",
      "metadata": {
        "colab": {
          "base_uri": "https://localhost:8080/"
        },
        "id": "aQ_ph5HfTsPU",
        "outputId": "1eb52dd4-4a35-457b-d631-1be67d19477b"
      },
      "source": [
        "mu_lens2cam = [0,0]\r\n",
        "mu_lens2cam[CHAN_UV] = P_UV2direct *A_cam /A_lens *theta_fiber /theta_lens\r\n",
        "mu_lens2cam[CHAN_G] = P_G2direct *A_cam /A_lens * theta_fiber /theta_lens\r\n",
        "d.update({\"mu_lens2cam\": mu_lens2cam})\r\n",
        "\r\n",
        "print(\"mu_lens2cam for UV,G = {0:.3e}, {1:.3e}\".format(mu_lens2cam[CHAN_UV], mu_lens2cam[CHAN_G]))"
      ],
      "execution_count": null,
      "outputs": [
        {
          "output_type": "stream",
          "text": [
            "mu_lens2cam for UV,G = 1.365e-04, 1.557e-03\n"
          ],
          "name": "stdout"
        }
      ]
    },
    {
      "cell_type": "markdown",
      "metadata": {
        "id": "VNa-t_pf4U6B"
      },
      "source": [
        "### Attenuation by mouse eye optics\r\n",
        "\r\n",
        "Another factor we need to consider is the wavelength-dependent attenuation by the mouse eye optics. The relative transmission for UV ($T_{Rel}(UV)$, at $\\lambda=360 \\: nm$) and green ($T_{Rel}(G)$, at $\\lambda=510 \\: nm$) is approx. 35% and 55%, respectively ([Henriksson et al., 2010](https://pubmed.ncbi.nlm.nih.gov/19925789/))."
      ]
    },
    {
      "cell_type": "code",
      "metadata": {
        "id": "dvocfwtcx8aG"
      },
      "source": [
        "d.update({\"T_rel\": [0.35, 0.55]})"
      ],
      "execution_count": null,
      "outputs": []
    },
    {
      "cell_type": "markdown",
      "metadata": {
        "id": "--jabiO0x8o9"
      },
      "source": [
        "In addition, the light reaching the retina depends on the ratio ($R_{pup2ret}$) between pupil area and retinal area (both in $[mm^2]$). Here, we assume pupil areas of $2 \\: mm^2$ at daytime and and $0.2 \\: mm^2$ at twighlight ([Pennesi et al., 1998](https://pubmed.ncbi.nlm.nih.gov/9761294/)). To calculate the retinal area of the mouse, we assume an eye axial length of approx. $3 \\: mm$ and that the retina covers about 60% of the sphere's surface ([Schmucker & Schaeffel, 2004](https://www.sciencedirect.com/science/article/pii/S0042698904001257#FIG4))."
      ]
    },
    {
      "cell_type": "code",
      "metadata": {
        "colab": {
          "base_uri": "https://localhost:8080/"
        },
        "id": "QRZcCqdE5vGQ",
        "outputId": "62c37e70-bb15-4f29-a7b1-11d0b748d314"
      },
      "source": [
        "eye_axial_len_mm = 3\r\n",
        "ret_area_mm2 = 0.6 *(eye_axial_len_mm/2)**2 *np.pi *4\r\n",
        "'''\r\n",
        "pup_area_mm2 = [0.2, 2.0]\r\n",
        "'''\r\n",
        "pup_area_mm2 = [0.1*2.2, 0.1]\r\n",
        "R_pup2ret= [x /ret_area_mm2 for x in pup_area_mm2]\r\n",
        "d.update({\"R_pup2ret\": R_pup2ret, \"pup_area_mm2\": pup_area_mm2, \"ret_area_mm2\": ret_area_mm2})\r\n",
        "\r\n",
        "print(\"mouse retinal area [mm²]            = {0:.1f}\".format(ret_area_mm2))\r\n",
        "print(\"pupil area         [mm²]            = twilight: {0:.1f} \\tdaylight: {1:.1f}\".format(pup_area_mm2[TWILIGHT], pup_area_mm2[DAYLIGHT]))\r\n",
        "print(\"ratio of pupil area to retinal area = twilight: {0:.3f} \\tdaylight: {1:.3f}\".format(R_pup2ret[TWILIGHT],R_pup2ret[DAYLIGHT]))"
      ],
      "execution_count": null,
      "outputs": [
        {
          "output_type": "stream",
          "text": [
            "mouse retinal area [mm²]            = 17.0\n",
            "pupil area         [mm²]            = twilight: 0.2 \tdaylight: 0.1\n",
            "ratio of pupil area to retinal area = twilight: 0.013 \tdaylight: 0.006\n"
          ],
          "name": "stdout"
        }
      ]
    },
    {
      "cell_type": "markdown",
      "metadata": {
        "id": "rhkoud9ZeLlc"
      },
      "source": [
        "### Cross-activation of S- and M-opsins ...\r\n",
        "\r\n",
        "... by the UV and green camera channels, yielding $S_{Act}(S,UV)$, $S_{Act}(S,G)$, $S_{Act}(M,UV)$, and $S_{Act}(M,G)$."
      ]
    },
    {
      "cell_type": "code",
      "metadata": {
        "colab": {
          "base_uri": "https://localhost:8080/"
        },
        "id": "nSp66ik1lH3m",
        "outputId": "4062290a-97fa-4e36-eceb-f0ee31f27b3c"
      },
      "source": [
        "#!wget -O opsin_filter_spectrum.npy https://github.com/eulerlab/mouse-scene-cam/blob/master/calibration/data/opsin_filter_spectrum.npy\r\n",
        "!wget -O opsin_filter_spectrum.npy https://www.dropbox.com/s/doh1jjqukdcpvpy/opsin_filter_spectrum.npy?dl=0"
      ],
      "execution_count": null,
      "outputs": [
        {
          "output_type": "stream",
          "text": [
            "--2021-03-09 19:53:53--  https://www.dropbox.com/s/doh1jjqukdcpvpy/opsin_filter_spectrum.npy?dl=0\n",
            "Resolving www.dropbox.com (www.dropbox.com)... 162.125.5.18, 2620:100:601d:18::a27d:512\n",
            "Connecting to www.dropbox.com (www.dropbox.com)|162.125.5.18|:443... connected.\n",
            "HTTP request sent, awaiting response... 301 Moved Permanently\n",
            "Location: /s/raw/doh1jjqukdcpvpy/opsin_filter_spectrum.npy [following]\n",
            "--2021-03-09 19:53:54--  https://www.dropbox.com/s/raw/doh1jjqukdcpvpy/opsin_filter_spectrum.npy\n",
            "Reusing existing connection to www.dropbox.com:443.\n",
            "HTTP request sent, awaiting response... 302 Found\n",
            "Location: https://uc4ebaf456ed3c027d534348c38c.dl.dropboxusercontent.com/cd/0/inline/BKaeax3TvX94Wn8txLtyr-dYdQyGdB4YZYIqTWx9UtMCtl8nPVCj9yZ9I5UDaG_Mb7kGrIfLCJrmEWSEnrmMwx6SeTV0tLx5RpwbnBILJH2SjgiRcUBkA7gV8_8IjavVfqSBPXTIE2OaJKYG5vI1l3_7/file# [following]\n",
            "--2021-03-09 19:53:54--  https://uc4ebaf456ed3c027d534348c38c.dl.dropboxusercontent.com/cd/0/inline/BKaeax3TvX94Wn8txLtyr-dYdQyGdB4YZYIqTWx9UtMCtl8nPVCj9yZ9I5UDaG_Mb7kGrIfLCJrmEWSEnrmMwx6SeTV0tLx5RpwbnBILJH2SjgiRcUBkA7gV8_8IjavVfqSBPXTIE2OaJKYG5vI1l3_7/file\n",
            "Resolving uc4ebaf456ed3c027d534348c38c.dl.dropboxusercontent.com (uc4ebaf456ed3c027d534348c38c.dl.dropboxusercontent.com)... 162.125.5.15, 2620:100:601d:15::a27d:50f\n",
            "Connecting to uc4ebaf456ed3c027d534348c38c.dl.dropboxusercontent.com (uc4ebaf456ed3c027d534348c38c.dl.dropboxusercontent.com)|162.125.5.15|:443... connected.\n",
            "HTTP request sent, awaiting response... 302 Found\n",
            "Location: /cd/0/inline2/BKY-XaGDMyETBA6Y8y7Lcu8cMAWjmD3YNc0hWR2NR1xmqOxoKoFPPPs6wQDKQ4tJsB_H5al_BsrvJF-RMszyI7sxpm744dzE37a4l_GkbUKPMnG2CzLphvCQoz_-7BdVnfCQ4lfccVkK4PoslBeNC_PmIzAtdnP6yJMTNN_rzZt4RdmOOjXSGo7bFCiYoOHLW_7gr_HrfcVMi1Jv6jGzD3wQgIJcTMUvNNpkq7MrlXBctlwLCXkibJTE7RLsn9m0Qm5hWMDmapGtXTFwkCL68mZKcYL9HdYj7_F3HgVHwb-TrtJPwXLIr2Tl8zqGkJYqTk4yjKcMov0PCJm-pRwOsPmW_hrd9iFJ4h7LwUXaPR4bphwsS1Cg7ZfbsfU8PeWcHCw/file [following]\n",
            "--2021-03-09 19:53:55--  https://uc4ebaf456ed3c027d534348c38c.dl.dropboxusercontent.com/cd/0/inline2/BKY-XaGDMyETBA6Y8y7Lcu8cMAWjmD3YNc0hWR2NR1xmqOxoKoFPPPs6wQDKQ4tJsB_H5al_BsrvJF-RMszyI7sxpm744dzE37a4l_GkbUKPMnG2CzLphvCQoz_-7BdVnfCQ4lfccVkK4PoslBeNC_PmIzAtdnP6yJMTNN_rzZt4RdmOOjXSGo7bFCiYoOHLW_7gr_HrfcVMi1Jv6jGzD3wQgIJcTMUvNNpkq7MrlXBctlwLCXkibJTE7RLsn9m0Qm5hWMDmapGtXTFwkCL68mZKcYL9HdYj7_F3HgVHwb-TrtJPwXLIr2Tl8zqGkJYqTk4yjKcMov0PCJm-pRwOsPmW_hrd9iFJ4h7LwUXaPR4bphwsS1Cg7ZfbsfU8PeWcHCw/file\n",
            "Reusing existing connection to uc4ebaf456ed3c027d534348c38c.dl.dropboxusercontent.com:443.\n",
            "HTTP request sent, awaiting response... 200 OK\n",
            "Length: 14700 (14K) [application/octet-stream]\n",
            "Saving to: ‘opsin_filter_spectrum.npy’\n",
            "\n",
            "opsin_filter_spectr 100%[===================>]  14.36K  --.-KB/s    in 0s      \n",
            "\n",
            "2021-03-09 19:53:55 (282 MB/s) - ‘opsin_filter_spectrum.npy’ saved [14700/14700]\n",
            "\n"
          ],
          "name": "stdout"
        }
      ]
    },
    {
      "cell_type": "code",
      "metadata": {
        "colab": {
          "base_uri": "https://localhost:8080/",
          "height": 292
        },
        "id": "dLzzixxOlOBZ",
        "outputId": "80740a8e-3c65-4d6b-ab47-5a00cef3b238"
      },
      "source": [
        "# Load opsin and filter spectra\r\n",
        "spect = np.load('opsin_filter_spectrum.npy', allow_pickle=True).item() \r\n",
        "\r\n",
        "wavelength  = spect[\"wavelength\"]\r\n",
        "mouseSOpsin = spect[\"mouseSOpsin\"]\r\n",
        "mouseMOpsin = spect[\"mouseMOpsin\"]\r\n",
        "filter_uv   = spect[\"filter_uv\"]\r\n",
        "filter_g    = spect[\"filter_g\"]\r\n",
        "filter_uv_scone = np.minimum(filter_uv,mouseSOpsin)\r\n",
        "filter_uv_mcone = np.minimum(filter_uv,mouseMOpsin)\r\n",
        "filter_g_scone  = np.minimum(filter_g, mouseSOpsin)\r\n",
        "filter_g_mcone  = np.minimum(filter_g, mouseMOpsin)\r\n",
        "\r\n",
        "S_act = [0]*4\r\n",
        "S_act[UV_S] = np.trapz(filter_uv_scone)/np.trapz(mouseSOpsin)\r\n",
        "S_act[UV_M] = np.trapz(filter_uv_mcone)/np.trapz(mouseMOpsin)\r\n",
        "S_act[G_S]  = np.trapz(filter_g_scone)/ np.trapz(mouseSOpsin)\r\n",
        "S_act[G_M]  = np.trapz(filter_g_mcone)/ np.trapz(mouseMOpsin)\r\n",
        "d.update({\"S_act\": S_act})\r\n",
        "\r\n",
        "fig,axes=plt.subplots(nrows=1,ncols=1,figsize=(5,3))\r\n",
        "axes.plot(wavelength,mouseMOpsin,color='g',     linestyle='-',label='M-cone')\r\n",
        "axes.plot(wavelength,mouseSOpsin,color='purple',linestyle='-',label='S-cone')\r\n",
        "axes.plot(wavelength,filter_g, color='g',       linestyle='--',label='Filter-G')\r\n",
        "axes.plot(wavelength,filter_uv,color='purple',  linestyle='--',label='Filter-UV')\r\n",
        "axes.fill_between(wavelength,y1=filter_g_mcone, y2=0,color='g',     alpha=0.5)\r\n",
        "axes.fill_between(wavelength,y1=filter_g_scone, y2=0,color='g',     alpha=0.5)\r\n",
        "axes.fill_between(wavelength,y1=filter_uv_mcone,y2=0,color='purple',alpha=0.5)\r\n",
        "axes.fill_between(wavelength,y1=filter_uv_scone,y2=0,color='purple',alpha=0.5)\r\n",
        "axes.set_xlabel (\"Wavelenght [nm]\")\r\n",
        "axes.set_ylabel(\"Rel. sensitivity\")\r\n",
        "axes.legend(loc='upper right', bbox_to_anchor=(1.4, 1.0))\r\n",
        "\r\n",
        "print(\"S_act UV -> S = {0:.3f}\".format(S_act[UV_S]))\r\n",
        "print(\"      UV -> M = {0:.3f}\".format(S_act[UV_M]))\r\n",
        "print(\"      G  -> S = {0:.3f}\".format(S_act[G_S]))\r\n",
        "print(\"      G  -> M = {0:.3f}\".format(S_act[G_M]))"
      ],
      "execution_count": null,
      "outputs": [
        {
          "output_type": "stream",
          "text": [
            "S_act UV -> S = 0.739\n",
            "      UV -> M = 0.088\n",
            "      G  -> S = 0.000\n",
            "      G  -> M = 0.642\n"
          ],
          "name": "stdout"
        },
        {
          "output_type": "display_data",
          "data": {
            "image/png": "[encoded data removed]",
            "text/plain": [
              "<Figure size 360x216 with 1 Axes>"
            ]
          },
          "metadata": {
            "tags": [],
            "needs_background": "light"
          }
        }
      ]
    },
    {
      "cell_type": "markdown",
      "metadata": {
        "id": "XVFd3L--eagG"
      },
      "source": [
        "### Estimating photoisomerization rates\r\n",
        "\r\n",
        "The following function converts normalized image intensities (0...1) to $P_{el}(\\lambda)$ (in $[\\mu W]$), $P_{Phi}(\\lambda)$ (in $[photons /s]$), and $R_{Iso}(\\lambda)$ (in $[P^*/cone/s]$).\r\n"
      ]
    },
    {
      "cell_type": "code",
      "metadata": {
        "id": "wiNXOCMqkgOi"
      },
      "source": [
        "def inten2Riso(intensities, pup_area_mm2):\r\n",
        "    \"\"\"\r\n",
        "    Transfer the normalized image intensities (0...1) to power (unit: uW), \r\n",
        "    photon flux (unit: photons/s) and photoisomerisation rate (P*/cone/s)\r\n",
        "\r\n",
        "    Input:\r\n",
        "    intensities    : image intensities (0...1) for both channels as tuple\r\n",
        "    pup_area_mm2   : pupil area in mm^2\r\n",
        "\r\n",
        "    Output:\r\n",
        "    P_el           : tuple (CHAN_UV, CHAN_G) \r\n",
        "    P_Phi          : tuple (CHAN_UV, CHAN_G) \r\n",
        "    R_Iso          : tuple (UV_S, UV_M, G_S, G_M)\r\n",
        "    \"\"\"\r\n",
        "    global d\r\n",
        "\r\n",
        "    h = 4.135667e-15          # Planck's constant [eV*s]\r\n",
        "    c = 299792458             # speed of light [m/s]\r\n",
        "    eV_per_J = 6.242e+18      # [eV] per [J]\r\n",
        "  \r\n",
        "    # Convert normalized image intensities (0...1) to power ([uW])\r\n",
        "    # (Constants from camera calibration, see STAR Methods for details)\r\n",
        "    P_el = [0]*2\r\n",
        "    P_el[CHAN_UV] = intensities[CHAN_UV] *0.755 + 0.0049\r\n",
        "    P_el[CHAN_G]  = intensities[CHAN_G] *6.550 + 0.0097  \r\n",
        "\r\n",
        "    # Convert electrical power ([uW]) to photon flux ([photons/s])\r\n",
        "    P_Phi = [0]*2\r\n",
        "    P_Phi[CHAN_UV] = (P_el[CHAN_UV] *1e-6) *eV_per_J *(d[\"peak_S\"]*1e-9)/(c*h) *(1/d[\"mu_lens2cam\"][CHAN_UV])\r\n",
        "    P_Phi[CHAN_G]  = (P_el[CHAN_G] *1e-6) *eV_per_J *(d[\"peak_M\"]*1e-9)/(c*h) *(1/d[\"mu_lens2cam\"][CHAN_G])\r\n",
        "\r\n",
        "    # Convert photon flux ([photons/s]) to photoisomerisation rate ([P*/cone/s])\r\n",
        "    R_pup2ret = pup_area_mm2 /d[\"ret_area_mm2\"]\r\n",
        "    R_Iso = [0]*4\r\n",
        "    for j in [UV_S, UV_M, G_S, G_M]:\r\n",
        "      chan = CHAN_UV if j < G_S else CHAN_G \r\n",
        "      R_Iso[j] = P_Phi[chan] /d[\"A_stim_um2\"] *d[\"ac_um2\"]* d[\"S_act\"][j] *d[\"T_rel\"][chan] *R_pup2ret\r\n",
        "\r\n",
        "    return P_el, P_Phi, R_Iso"
      ],
      "execution_count": null,
      "outputs": []
    },
    {
      "cell_type": "markdown",
      "metadata": {
        "id": "jQ0-HtIQnYDA"
      },
      "source": [
        "Example `[[0.18, 0.11], [0.06, 0.14]]`, with the following format `[upper[UV,G],lower[UV,G]]`"
      ]
    },
    {
      "cell_type": "code",
      "metadata": {
        "colab": {
          "base_uri": "https://localhost:8080/"
        },
        "id": "Lhk4FuRh9hA6",
        "outputId": "2fcad7af-9272-482f-9427-f12075cd99dc"
      },
      "source": [
        "intensities=[[0.18, 0.11], [0.06, 0.14]]\r\n",
        "for j, i in enumerate(intensities):\r\n",
        "  l = inten2Riso(i, 0.2)\r\n",
        "  print(\"{0:2d} (UV, G) P_el = {1:.3f}, {2:.3f}\\t P_Phi = {3:.1e}, {4:.1e} \".format(j, l[0][0], l[0][1], l[1][0], l[1][1]))\r\n",
        "  print(\"   UV->S = {0:.1e} \\t UV->M = {1:.1e} \\t G->S = {2:.1e} \\t G->M = {3:.1e}\".format(l[2][0], l[2][1], l[2][2], l[2][3]))\r\n"
      ],
      "execution_count": null,
      "outputs": [
        {
          "output_type": "stream",
          "text": [
            " 0 (UV, G) P_el = 0.141, 0.730\t P_Phi = 1.9e+15, 1.2e+15 \n",
            "   UV->S = 1.1e+04 \t UV->M = 1.4e+03 \t G->S = 8.2e-01 \t G->M = 1.0e+04\n",
            " 1 (UV, G) P_el = 0.050, 0.927\t P_Phi = 6.7e+14, 1.5e+15 \n",
            "   UV->S = 4.1e+03 \t UV->M = 4.8e+02 \t G->S = 1.0e+00 \t G->M = 1.3e+04\n"
          ],
          "name": "stdout"
        }
      ]
    },
    {
      "cell_type": "markdown",
      "metadata": {
        "id": "7I4DT1zdLf6P"
      },
      "source": [
        "### Generate Supplementary Table 1"
      ]
    },
    {
      "cell_type": "code",
      "metadata": {
        "id": "VaSoOWKx_-MM",
        "colab": {
          "base_uri": "https://localhost:8080/",
          "height": 369
        },
        "outputId": "81d94d99-6d34-4723-dfea-1dfcd1eca43d"
      },
      "source": [
        "col_names = ['Group', 'Visual field', 'Camera channel', 'Norm. intensity', 'P_el in [µW]',\\\r\n",
        "           'P_Phi in [photons/s]', 'Pupil area in [mm2]',\\\r\n",
        "           'R_Iso in [P*/cone/s], S', 'R_Iso in [P*/cone/s], M']\r\n",
        "data_df  = pd.DataFrame(columns = col_names)\r\n",
        "\r\n",
        "group = ['Low', 'Medium', 'High', 'Twilight']\r\n",
        "group = [item for item in group for i in range(4)]\r\n",
        "data_df['Group'] = group\r\n",
        "\r\n",
        "visual_field=['Upper', 'Upper', 'Lower', 'Lower']*4\r\n",
        "data_df['Visual field'] = visual_field\r\n",
        "\r\n",
        "camera_channel=['UV', 'G']*8\r\n",
        "data_df['Camera channel'] = camera_channel\r\n",
        "\r\n",
        "norm_intensity = [0.18, 0.11, 0.06, 0.14, 0.28, 0.16, 0.09, 0.21, 0.50, 0.34, 0.22, 0.46, 0.05, 0.06, 0.02, 0.05]\r\n",
        "data_df['Norm. intensity'] = norm_intensity\r\n",
        "\r\n",
        "# Pupil area\r\n",
        "data_df['Pupil area in [mm2]'] = np.where(data_df['Group'] == 'Twilight', \\\r\n",
        "                                          d['pup_area_mm2'][TWILIGHT], d['pup_area_mm2'][DAYLIGHT])\r\n",
        "\r\n",
        "# Photoisomerisations\r\n",
        "for ii in range(int(len(data_df.index)/2)):\r\n",
        "  tempUV, tempG = data_df.iloc[ii*2, 3], data_df.iloc[ii*2+1, 3]\r\n",
        "  templ = inten2Riso([tempUV,tempG], data_df.iloc[ii*2, 6])\r\n",
        "  data_df.iloc[ii*2, 4],  data_df.iloc[ii*2+1, 4] = templ[0][0], templ[0][1]\r\n",
        "  data_df.iloc[ii*2, 5],  data_df.iloc[ii*2+1, 5] = templ[1][0], templ[1][1]\r\n",
        "  data_df.iloc[ii*2,7],   data_df.iloc[ii*2,8], data_df.iloc[ii*2+1,7], data_df.iloc[ii*2+1,8] =\\\r\n",
        "                                          templ[2][0], templ[2][1], templ[2][2], templ[2][3]\r\n",
        "# Show table\r\n",
        "data_df.style.format({\"Norm. intensity\": \"{:.2f}\",\"P_el in [µW]\": \"{:.3f}\", \r\n",
        "                      \"P_Phi in [photons/s]\": \"{:.3e}\", \"Pupil area in [mm2]\": \"{:.1f}\",\r\n",
        "                      \"R_Iso in [P*/cone/s], S\": \"{:.0f}\", \"R_Iso in [P*/cone/s], M\": \"{:.0f}\"})\r\n",
        "#display(data_df)"
      ],
      "execution_count": null,
      "outputs": [
        {
          "output_type": "execute_result",
          "data": {
            "text/html": [
              "<style  type=\"text/css\" >\n",
              "</style><table id=\"T_2e7ff168_8111_11eb_b2c2_0242ac1c0002\" ><thead>    <tr>        <th class=\"blank level0\" ></th>        <th class=\"col_heading level0 col0\" >Group</th>        <th class=\"col_heading level0 col1\" >Visual field</th>        <th class=\"col_heading level0 col2\" >Camera channel</th>        <th class=\"col_heading level0 col3\" >Norm. intensity</th>        <th class=\"col_heading level0 col4\" >P_el in [µW]</th>        <th class=\"col_heading level0 col5\" >P_Phi in [photons/s]</th>        <th class=\"col_heading level0 col6\" >Pupil area in [mm2]</th>        <th class=\"col_heading level0 col7\" >R_Iso in [P*/cone/s], S</th>        <th class=\"col_heading level0 col8\" >R_Iso in [P*/cone/s], M</th>    </tr></thead><tbody>\n",
              "                <tr>\n",
              "                        <th id=\"T_2e7ff168_8111_11eb_b2c2_0242ac1c0002level0_row0\" class=\"row_heading level0 row0\" >0</th>\n",
              "                        <td id=\"T_2e7ff168_8111_11eb_b2c2_0242ac1c0002row0_col0\" class=\"data row0 col0\" >Low</td>\n",
              "                        <td id=\"T_2e7ff168_8111_11eb_b2c2_0242ac1c0002row0_col1\" class=\"data row0 col1\" >Upper</td>\n",
              "                        <td id=\"T_2e7ff168_8111_11eb_b2c2_0242ac1c0002row0_col2\" class=\"data row0 col2\" >UV</td>\n",
              "                        <td id=\"T_2e7ff168_8111_11eb_b2c2_0242ac1c0002row0_col3\" class=\"data row0 col3\" >0.18</td>\n",
              "                        <td id=\"T_2e7ff168_8111_11eb_b2c2_0242ac1c0002row0_col4\" class=\"data row0 col4\" >0.141</td>\n",
              "                        <td id=\"T_2e7ff168_8111_11eb_b2c2_0242ac1c0002row0_col5\" class=\"data row0 col5\" >1.869e+15</td>\n",
              "                        <td id=\"T_2e7ff168_8111_11eb_b2c2_0242ac1c0002row0_col6\" class=\"data row0 col6\" >0.1</td>\n",
              "                        <td id=\"T_2e7ff168_8111_11eb_b2c2_0242ac1c0002row0_col7\" class=\"data row0 col7\" >5696</td>\n",
              "                        <td id=\"T_2e7ff168_8111_11eb_b2c2_0242ac1c0002row0_col8\" class=\"data row0 col8\" >679</td>\n",
              "            </tr>\n",
              "            <tr>\n",
              "                        <th id=\"T_2e7ff168_8111_11eb_b2c2_0242ac1c0002level0_row1\" class=\"row_heading level0 row1\" >1</th>\n",
              "                        <td id=\"T_2e7ff168_8111_11eb_b2c2_0242ac1c0002row1_col0\" class=\"data row1 col0\" >Low</td>\n",
              "                        <td id=\"T_2e7ff168_8111_11eb_b2c2_0242ac1c0002row1_col1\" class=\"data row1 col1\" >Upper</td>\n",
              "                        <td id=\"T_2e7ff168_8111_11eb_b2c2_0242ac1c0002row1_col2\" class=\"data row1 col2\" >G</td>\n",
              "                        <td id=\"T_2e7ff168_8111_11eb_b2c2_0242ac1c0002row1_col3\" class=\"data row1 col3\" >0.11</td>\n",
              "                        <td id=\"T_2e7ff168_8111_11eb_b2c2_0242ac1c0002row1_col4\" class=\"data row1 col4\" >0.730</td>\n",
              "                        <td id=\"T_2e7ff168_8111_11eb_b2c2_0242ac1c0002row1_col5\" class=\"data row1 col5\" >1.204e+15</td>\n",
              "                        <td id=\"T_2e7ff168_8111_11eb_b2c2_0242ac1c0002row1_col6\" class=\"data row1 col6\" >0.1</td>\n",
              "                        <td id=\"T_2e7ff168_8111_11eb_b2c2_0242ac1c0002row1_col7\" class=\"data row1 col7\" >0</td>\n",
              "                        <td id=\"T_2e7ff168_8111_11eb_b2c2_0242ac1c0002row1_col8\" class=\"data row1 col8\" >5014</td>\n",
              "            </tr>\n",
              "            <tr>\n",
              "                        <th id=\"T_2e7ff168_8111_11eb_b2c2_0242ac1c0002level0_row2\" class=\"row_heading level0 row2\" >2</th>\n",
              "                        <td id=\"T_2e7ff168_8111_11eb_b2c2_0242ac1c0002row2_col0\" class=\"data row2 col0\" >Low</td>\n",
              "                        <td id=\"T_2e7ff168_8111_11eb_b2c2_0242ac1c0002row2_col1\" class=\"data row2 col1\" >Lower</td>\n",
              "                        <td id=\"T_2e7ff168_8111_11eb_b2c2_0242ac1c0002row2_col2\" class=\"data row2 col2\" >UV</td>\n",
              "                        <td id=\"T_2e7ff168_8111_11eb_b2c2_0242ac1c0002row2_col3\" class=\"data row2 col3\" >0.06</td>\n",
              "                        <td id=\"T_2e7ff168_8111_11eb_b2c2_0242ac1c0002row2_col4\" class=\"data row2 col4\" >0.050</td>\n",
              "                        <td id=\"T_2e7ff168_8111_11eb_b2c2_0242ac1c0002row2_col5\" class=\"data row2 col5\" >6.664e+14</td>\n",
              "                        <td id=\"T_2e7ff168_8111_11eb_b2c2_0242ac1c0002row2_col6\" class=\"data row2 col6\" >0.1</td>\n",
              "                        <td id=\"T_2e7ff168_8111_11eb_b2c2_0242ac1c0002row2_col7\" class=\"data row2 col7\" >2031</td>\n",
              "                        <td id=\"T_2e7ff168_8111_11eb_b2c2_0242ac1c0002row2_col8\" class=\"data row2 col8\" >242</td>\n",
              "            </tr>\n",
              "            <tr>\n",
              "                        <th id=\"T_2e7ff168_8111_11eb_b2c2_0242ac1c0002level0_row3\" class=\"row_heading level0 row3\" >3</th>\n",
              "                        <td id=\"T_2e7ff168_8111_11eb_b2c2_0242ac1c0002row3_col0\" class=\"data row3 col0\" >Low</td>\n",
              "                        <td id=\"T_2e7ff168_8111_11eb_b2c2_0242ac1c0002row3_col1\" class=\"data row3 col1\" >Lower</td>\n",
              "                        <td id=\"T_2e7ff168_8111_11eb_b2c2_0242ac1c0002row3_col2\" class=\"data row3 col2\" >G</td>\n",
              "                        <td id=\"T_2e7ff168_8111_11eb_b2c2_0242ac1c0002row3_col3\" class=\"data row3 col3\" >0.14</td>\n",
              "                        <td id=\"T_2e7ff168_8111_11eb_b2c2_0242ac1c0002row3_col4\" class=\"data row3 col4\" >0.927</td>\n",
              "                        <td id=\"T_2e7ff168_8111_11eb_b2c2_0242ac1c0002row3_col5\" class=\"data row3 col5\" >1.528e+15</td>\n",
              "                        <td id=\"T_2e7ff168_8111_11eb_b2c2_0242ac1c0002row3_col6\" class=\"data row3 col6\" >0.1</td>\n",
              "                        <td id=\"T_2e7ff168_8111_11eb_b2c2_0242ac1c0002row3_col7\" class=\"data row3 col7\" >1</td>\n",
              "                        <td id=\"T_2e7ff168_8111_11eb_b2c2_0242ac1c0002row3_col8\" class=\"data row3 col8\" >6363</td>\n",
              "            </tr>\n",
              "            <tr>\n",
              "                        <th id=\"T_2e7ff168_8111_11eb_b2c2_0242ac1c0002level0_row4\" class=\"row_heading level0 row4\" >4</th>\n",
              "                        <td id=\"T_2e7ff168_8111_11eb_b2c2_0242ac1c0002row4_col0\" class=\"data row4 col0\" >Medium</td>\n",
              "                        <td id=\"T_2e7ff168_8111_11eb_b2c2_0242ac1c0002row4_col1\" class=\"data row4 col1\" >Upper</td>\n",
              "                        <td id=\"T_2e7ff168_8111_11eb_b2c2_0242ac1c0002row4_col2\" class=\"data row4 col2\" >UV</td>\n",
              "                        <td id=\"T_2e7ff168_8111_11eb_b2c2_0242ac1c0002row4_col3\" class=\"data row4 col3\" >0.28</td>\n",
              "                        <td id=\"T_2e7ff168_8111_11eb_b2c2_0242ac1c0002row4_col4\" class=\"data row4 col4\" >0.216</td>\n",
              "                        <td id=\"T_2e7ff168_8111_11eb_b2c2_0242ac1c0002row4_col5\" class=\"data row4 col5\" >2.871e+15</td>\n",
              "                        <td id=\"T_2e7ff168_8111_11eb_b2c2_0242ac1c0002row4_col6\" class=\"data row4 col6\" >0.1</td>\n",
              "                        <td id=\"T_2e7ff168_8111_11eb_b2c2_0242ac1c0002row4_col7\" class=\"data row4 col7\" >8750</td>\n",
              "                        <td id=\"T_2e7ff168_8111_11eb_b2c2_0242ac1c0002row4_col8\" class=\"data row4 col8\" >1044</td>\n",
              "            </tr>\n",
              "            <tr>\n",
              "                        <th id=\"T_2e7ff168_8111_11eb_b2c2_0242ac1c0002level0_row5\" class=\"row_heading level0 row5\" >5</th>\n",
              "                        <td id=\"T_2e7ff168_8111_11eb_b2c2_0242ac1c0002row5_col0\" class=\"data row5 col0\" >Medium</td>\n",
              "                        <td id=\"T_2e7ff168_8111_11eb_b2c2_0242ac1c0002row5_col1\" class=\"data row5 col1\" >Upper</td>\n",
              "                        <td id=\"T_2e7ff168_8111_11eb_b2c2_0242ac1c0002row5_col2\" class=\"data row5 col2\" >G</td>\n",
              "                        <td id=\"T_2e7ff168_8111_11eb_b2c2_0242ac1c0002row5_col3\" class=\"data row5 col3\" >0.16</td>\n",
              "                        <td id=\"T_2e7ff168_8111_11eb_b2c2_0242ac1c0002row5_col4\" class=\"data row5 col4\" >1.058</td>\n",
              "                        <td id=\"T_2e7ff168_8111_11eb_b2c2_0242ac1c0002row5_col5\" class=\"data row5 col5\" >1.744e+15</td>\n",
              "                        <td id=\"T_2e7ff168_8111_11eb_b2c2_0242ac1c0002row5_col6\" class=\"data row5 col6\" >0.1</td>\n",
              "                        <td id=\"T_2e7ff168_8111_11eb_b2c2_0242ac1c0002row5_col7\" class=\"data row5 col7\" >1</td>\n",
              "                        <td id=\"T_2e7ff168_8111_11eb_b2c2_0242ac1c0002row5_col8\" class=\"data row5 col8\" >7262</td>\n",
              "            </tr>\n",
              "            <tr>\n",
              "                        <th id=\"T_2e7ff168_8111_11eb_b2c2_0242ac1c0002level0_row6\" class=\"row_heading level0 row6\" >6</th>\n",
              "                        <td id=\"T_2e7ff168_8111_11eb_b2c2_0242ac1c0002row6_col0\" class=\"data row6 col0\" >Medium</td>\n",
              "                        <td id=\"T_2e7ff168_8111_11eb_b2c2_0242ac1c0002row6_col1\" class=\"data row6 col1\" >Lower</td>\n",
              "                        <td id=\"T_2e7ff168_8111_11eb_b2c2_0242ac1c0002row6_col2\" class=\"data row6 col2\" >UV</td>\n",
              "                        <td id=\"T_2e7ff168_8111_11eb_b2c2_0242ac1c0002row6_col3\" class=\"data row6 col3\" >0.09</td>\n",
              "                        <td id=\"T_2e7ff168_8111_11eb_b2c2_0242ac1c0002row6_col4\" class=\"data row6 col4\" >0.073</td>\n",
              "                        <td id=\"T_2e7ff168_8111_11eb_b2c2_0242ac1c0002row6_col5\" class=\"data row6 col5\" >9.670e+14</td>\n",
              "                        <td id=\"T_2e7ff168_8111_11eb_b2c2_0242ac1c0002row6_col6\" class=\"data row6 col6\" >0.1</td>\n",
              "                        <td id=\"T_2e7ff168_8111_11eb_b2c2_0242ac1c0002row6_col7\" class=\"data row6 col7\" >2947</td>\n",
              "                        <td id=\"T_2e7ff168_8111_11eb_b2c2_0242ac1c0002row6_col8\" class=\"data row6 col8\" >351</td>\n",
              "            </tr>\n",
              "            <tr>\n",
              "                        <th id=\"T_2e7ff168_8111_11eb_b2c2_0242ac1c0002level0_row7\" class=\"row_heading level0 row7\" >7</th>\n",
              "                        <td id=\"T_2e7ff168_8111_11eb_b2c2_0242ac1c0002row7_col0\" class=\"data row7 col0\" >Medium</td>\n",
              "                        <td id=\"T_2e7ff168_8111_11eb_b2c2_0242ac1c0002row7_col1\" class=\"data row7 col1\" >Lower</td>\n",
              "                        <td id=\"T_2e7ff168_8111_11eb_b2c2_0242ac1c0002row7_col2\" class=\"data row7 col2\" >G</td>\n",
              "                        <td id=\"T_2e7ff168_8111_11eb_b2c2_0242ac1c0002row7_col3\" class=\"data row7 col3\" >0.21</td>\n",
              "                        <td id=\"T_2e7ff168_8111_11eb_b2c2_0242ac1c0002row7_col4\" class=\"data row7 col4\" >1.385</td>\n",
              "                        <td id=\"T_2e7ff168_8111_11eb_b2c2_0242ac1c0002row7_col5\" class=\"data row7 col5\" >2.284e+15</td>\n",
              "                        <td id=\"T_2e7ff168_8111_11eb_b2c2_0242ac1c0002row7_col6\" class=\"data row7 col6\" >0.1</td>\n",
              "                        <td id=\"T_2e7ff168_8111_11eb_b2c2_0242ac1c0002row7_col7\" class=\"data row7 col7\" >1</td>\n",
              "                        <td id=\"T_2e7ff168_8111_11eb_b2c2_0242ac1c0002row7_col8\" class=\"data row7 col8\" >9511</td>\n",
              "            </tr>\n",
              "            <tr>\n",
              "                        <th id=\"T_2e7ff168_8111_11eb_b2c2_0242ac1c0002level0_row8\" class=\"row_heading level0 row8\" >8</th>\n",
              "                        <td id=\"T_2e7ff168_8111_11eb_b2c2_0242ac1c0002row8_col0\" class=\"data row8 col0\" >High</td>\n",
              "                        <td id=\"T_2e7ff168_8111_11eb_b2c2_0242ac1c0002row8_col1\" class=\"data row8 col1\" >Upper</td>\n",
              "                        <td id=\"T_2e7ff168_8111_11eb_b2c2_0242ac1c0002row8_col2\" class=\"data row8 col2\" >UV</td>\n",
              "                        <td id=\"T_2e7ff168_8111_11eb_b2c2_0242ac1c0002row8_col3\" class=\"data row8 col3\" >0.50</td>\n",
              "                        <td id=\"T_2e7ff168_8111_11eb_b2c2_0242ac1c0002row8_col4\" class=\"data row8 col4\" >0.382</td>\n",
              "                        <td id=\"T_2e7ff168_8111_11eb_b2c2_0242ac1c0002row8_col5\" class=\"data row8 col5\" >5.076e+15</td>\n",
              "                        <td id=\"T_2e7ff168_8111_11eb_b2c2_0242ac1c0002row8_col6\" class=\"data row8 col6\" >0.1</td>\n",
              "                        <td id=\"T_2e7ff168_8111_11eb_b2c2_0242ac1c0002row8_col7\" class=\"data row8 col7\" >15469</td>\n",
              "                        <td id=\"T_2e7ff168_8111_11eb_b2c2_0242ac1c0002row8_col8\" class=\"data row8 col8\" >1845</td>\n",
              "            </tr>\n",
              "            <tr>\n",
              "                        <th id=\"T_2e7ff168_8111_11eb_b2c2_0242ac1c0002level0_row9\" class=\"row_heading level0 row9\" >9</th>\n",
              "                        <td id=\"T_2e7ff168_8111_11eb_b2c2_0242ac1c0002row9_col0\" class=\"data row9 col0\" >High</td>\n",
              "                        <td id=\"T_2e7ff168_8111_11eb_b2c2_0242ac1c0002row9_col1\" class=\"data row9 col1\" >Upper</td>\n",
              "                        <td id=\"T_2e7ff168_8111_11eb_b2c2_0242ac1c0002row9_col2\" class=\"data row9 col2\" >G</td>\n",
              "                        <td id=\"T_2e7ff168_8111_11eb_b2c2_0242ac1c0002row9_col3\" class=\"data row9 col3\" >0.34</td>\n",
              "                        <td id=\"T_2e7ff168_8111_11eb_b2c2_0242ac1c0002row9_col4\" class=\"data row9 col4\" >2.237</td>\n",
              "                        <td id=\"T_2e7ff168_8111_11eb_b2c2_0242ac1c0002row9_col5\" class=\"data row9 col5\" >3.688e+15</td>\n",
              "                        <td id=\"T_2e7ff168_8111_11eb_b2c2_0242ac1c0002row9_col6\" class=\"data row9 col6\" >0.1</td>\n",
              "                        <td id=\"T_2e7ff168_8111_11eb_b2c2_0242ac1c0002row9_col7\" class=\"data row9 col7\" >1</td>\n",
              "                        <td id=\"T_2e7ff168_8111_11eb_b2c2_0242ac1c0002row9_col8\" class=\"data row9 col8\" >15357</td>\n",
              "            </tr>\n",
              "            <tr>\n",
              "                        <th id=\"T_2e7ff168_8111_11eb_b2c2_0242ac1c0002level0_row10\" class=\"row_heading level0 row10\" >10</th>\n",
              "                        <td id=\"T_2e7ff168_8111_11eb_b2c2_0242ac1c0002row10_col0\" class=\"data row10 col0\" >High</td>\n",
              "                        <td id=\"T_2e7ff168_8111_11eb_b2c2_0242ac1c0002row10_col1\" class=\"data row10 col1\" >Lower</td>\n",
              "                        <td id=\"T_2e7ff168_8111_11eb_b2c2_0242ac1c0002row10_col2\" class=\"data row10 col2\" >UV</td>\n",
              "                        <td id=\"T_2e7ff168_8111_11eb_b2c2_0242ac1c0002row10_col3\" class=\"data row10 col3\" >0.22</td>\n",
              "                        <td id=\"T_2e7ff168_8111_11eb_b2c2_0242ac1c0002row10_col4\" class=\"data row10 col4\" >0.171</td>\n",
              "                        <td id=\"T_2e7ff168_8111_11eb_b2c2_0242ac1c0002row10_col5\" class=\"data row10 col5\" >2.270e+15</td>\n",
              "                        <td id=\"T_2e7ff168_8111_11eb_b2c2_0242ac1c0002row10_col6\" class=\"data row10 col6\" >0.1</td>\n",
              "                        <td id=\"T_2e7ff168_8111_11eb_b2c2_0242ac1c0002row10_col7\" class=\"data row10 col7\" >6917</td>\n",
              "                        <td id=\"T_2e7ff168_8111_11eb_b2c2_0242ac1c0002row10_col8\" class=\"data row10 col8\" >825</td>\n",
              "            </tr>\n",
              "            <tr>\n",
              "                        <th id=\"T_2e7ff168_8111_11eb_b2c2_0242ac1c0002level0_row11\" class=\"row_heading level0 row11\" >11</th>\n",
              "                        <td id=\"T_2e7ff168_8111_11eb_b2c2_0242ac1c0002row11_col0\" class=\"data row11 col0\" >High</td>\n",
              "                        <td id=\"T_2e7ff168_8111_11eb_b2c2_0242ac1c0002row11_col1\" class=\"data row11 col1\" >Lower</td>\n",
              "                        <td id=\"T_2e7ff168_8111_11eb_b2c2_0242ac1c0002row11_col2\" class=\"data row11 col2\" >G</td>\n",
              "                        <td id=\"T_2e7ff168_8111_11eb_b2c2_0242ac1c0002row11_col3\" class=\"data row11 col3\" >0.46</td>\n",
              "                        <td id=\"T_2e7ff168_8111_11eb_b2c2_0242ac1c0002row11_col4\" class=\"data row11 col4\" >3.023</td>\n",
              "                        <td id=\"T_2e7ff168_8111_11eb_b2c2_0242ac1c0002row11_col5\" class=\"data row11 col5\" >4.984e+15</td>\n",
              "                        <td id=\"T_2e7ff168_8111_11eb_b2c2_0242ac1c0002row11_col6\" class=\"data row11 col6\" >0.1</td>\n",
              "                        <td id=\"T_2e7ff168_8111_11eb_b2c2_0242ac1c0002row11_col7\" class=\"data row11 col7\" >2</td>\n",
              "                        <td id=\"T_2e7ff168_8111_11eb_b2c2_0242ac1c0002row11_col8\" class=\"data row11 col8\" >20754</td>\n",
              "            </tr>\n",
              "            <tr>\n",
              "                        <th id=\"T_2e7ff168_8111_11eb_b2c2_0242ac1c0002level0_row12\" class=\"row_heading level0 row12\" >12</th>\n",
              "                        <td id=\"T_2e7ff168_8111_11eb_b2c2_0242ac1c0002row12_col0\" class=\"data row12 col0\" >Twilight</td>\n",
              "                        <td id=\"T_2e7ff168_8111_11eb_b2c2_0242ac1c0002row12_col1\" class=\"data row12 col1\" >Upper</td>\n",
              "                        <td id=\"T_2e7ff168_8111_11eb_b2c2_0242ac1c0002row12_col2\" class=\"data row12 col2\" >UV</td>\n",
              "                        <td id=\"T_2e7ff168_8111_11eb_b2c2_0242ac1c0002row12_col3\" class=\"data row12 col3\" >0.05</td>\n",
              "                        <td id=\"T_2e7ff168_8111_11eb_b2c2_0242ac1c0002row12_col4\" class=\"data row12 col4\" >0.043</td>\n",
              "                        <td id=\"T_2e7ff168_8111_11eb_b2c2_0242ac1c0002row12_col5\" class=\"data row12 col5\" >5.662e+14</td>\n",
              "                        <td id=\"T_2e7ff168_8111_11eb_b2c2_0242ac1c0002row12_col6\" class=\"data row12 col6\" >0.2</td>\n",
              "                        <td id=\"T_2e7ff168_8111_11eb_b2c2_0242ac1c0002row12_col7\" class=\"data row12 col7\" >3796</td>\n",
              "                        <td id=\"T_2e7ff168_8111_11eb_b2c2_0242ac1c0002row12_col8\" class=\"data row12 col8\" >453</td>\n",
              "            </tr>\n",
              "            <tr>\n",
              "                        <th id=\"T_2e7ff168_8111_11eb_b2c2_0242ac1c0002level0_row13\" class=\"row_heading level0 row13\" >13</th>\n",
              "                        <td id=\"T_2e7ff168_8111_11eb_b2c2_0242ac1c0002row13_col0\" class=\"data row13 col0\" >Twilight</td>\n",
              "                        <td id=\"T_2e7ff168_8111_11eb_b2c2_0242ac1c0002row13_col1\" class=\"data row13 col1\" >Upper</td>\n",
              "                        <td id=\"T_2e7ff168_8111_11eb_b2c2_0242ac1c0002row13_col2\" class=\"data row13 col2\" >G</td>\n",
              "                        <td id=\"T_2e7ff168_8111_11eb_b2c2_0242ac1c0002row13_col3\" class=\"data row13 col3\" >0.06</td>\n",
              "                        <td id=\"T_2e7ff168_8111_11eb_b2c2_0242ac1c0002row13_col4\" class=\"data row13 col4\" >0.403</td>\n",
              "                        <td id=\"T_2e7ff168_8111_11eb_b2c2_0242ac1c0002row13_col5\" class=\"data row13 col5\" >6.639e+14</td>\n",
              "                        <td id=\"T_2e7ff168_8111_11eb_b2c2_0242ac1c0002row13_col6\" class=\"data row13 col6\" >0.2</td>\n",
              "                        <td id=\"T_2e7ff168_8111_11eb_b2c2_0242ac1c0002row13_col7\" class=\"data row13 col7\" >0</td>\n",
              "                        <td id=\"T_2e7ff168_8111_11eb_b2c2_0242ac1c0002row13_col8\" class=\"data row13 col8\" >6083</td>\n",
              "            </tr>\n",
              "            <tr>\n",
              "                        <th id=\"T_2e7ff168_8111_11eb_b2c2_0242ac1c0002level0_row14\" class=\"row_heading level0 row14\" >14</th>\n",
              "                        <td id=\"T_2e7ff168_8111_11eb_b2c2_0242ac1c0002row14_col0\" class=\"data row14 col0\" >Twilight</td>\n",
              "                        <td id=\"T_2e7ff168_8111_11eb_b2c2_0242ac1c0002row14_col1\" class=\"data row14 col1\" >Lower</td>\n",
              "                        <td id=\"T_2e7ff168_8111_11eb_b2c2_0242ac1c0002row14_col2\" class=\"data row14 col2\" >UV</td>\n",
              "                        <td id=\"T_2e7ff168_8111_11eb_b2c2_0242ac1c0002row14_col3\" class=\"data row14 col3\" >0.02</td>\n",
              "                        <td id=\"T_2e7ff168_8111_11eb_b2c2_0242ac1c0002row14_col4\" class=\"data row14 col4\" >0.020</td>\n",
              "                        <td id=\"T_2e7ff168_8111_11eb_b2c2_0242ac1c0002row14_col5\" class=\"data row14 col5\" >2.655e+14</td>\n",
              "                        <td id=\"T_2e7ff168_8111_11eb_b2c2_0242ac1c0002row14_col6\" class=\"data row14 col6\" >0.2</td>\n",
              "                        <td id=\"T_2e7ff168_8111_11eb_b2c2_0242ac1c0002row14_col7\" class=\"data row14 col7\" >1780</td>\n",
              "                        <td id=\"T_2e7ff168_8111_11eb_b2c2_0242ac1c0002row14_col8\" class=\"data row14 col8\" >212</td>\n",
              "            </tr>\n",
              "            <tr>\n",
              "                        <th id=\"T_2e7ff168_8111_11eb_b2c2_0242ac1c0002level0_row15\" class=\"row_heading level0 row15\" >15</th>\n",
              "                        <td id=\"T_2e7ff168_8111_11eb_b2c2_0242ac1c0002row15_col0\" class=\"data row15 col0\" >Twilight</td>\n",
              "                        <td id=\"T_2e7ff168_8111_11eb_b2c2_0242ac1c0002row15_col1\" class=\"data row15 col1\" >Lower</td>\n",
              "                        <td id=\"T_2e7ff168_8111_11eb_b2c2_0242ac1c0002row15_col2\" class=\"data row15 col2\" >G</td>\n",
              "                        <td id=\"T_2e7ff168_8111_11eb_b2c2_0242ac1c0002row15_col3\" class=\"data row15 col3\" >0.05</td>\n",
              "                        <td id=\"T_2e7ff168_8111_11eb_b2c2_0242ac1c0002row15_col4\" class=\"data row15 col4\" >0.337</td>\n",
              "                        <td id=\"T_2e7ff168_8111_11eb_b2c2_0242ac1c0002row15_col5\" class=\"data row15 col5\" >5.559e+14</td>\n",
              "                        <td id=\"T_2e7ff168_8111_11eb_b2c2_0242ac1c0002row15_col6\" class=\"data row15 col6\" >0.2</td>\n",
              "                        <td id=\"T_2e7ff168_8111_11eb_b2c2_0242ac1c0002row15_col7\" class=\"data row15 col7\" >0</td>\n",
              "                        <td id=\"T_2e7ff168_8111_11eb_b2c2_0242ac1c0002row15_col8\" class=\"data row15 col8\" >5093</td>\n",
              "            </tr>\n",
              "    </tbody></table>"
            ],
            "text/plain": [
              "<pandas.io.formats.style.Styler at 0x7f094c2f0890>"
            ]
          },
          "metadata": {
            "tags": []
          },
          "execution_count": 14
        }
      ]
    },
    {
      "cell_type": "code",
      "metadata": {
        "id": "D1bKoadBSc6s"
      },
      "source": [
        ""
      ],
      "execution_count": null,
      "outputs": []
    },
    {
      "cell_type": "code",
      "metadata": {
        "colab": {
          "base_uri": "https://localhost:8080/"
        },
        "id": "VahRMNQsqYBT",
        "outputId": "6f690e17-2143-4e50-abfa-567d7fefb6b5"
      },
      "source": [
        "#UV channel, bright environment\r\n",
        "print (\"UV channel, bright:\")\r\n",
        "# u/l ... 3 intens groups\r\n",
        "intensities=[0.18, 0.06, 0.28, 0.09, 0.50, 0.22]\r\n",
        "PPRs=np.zeros((len(intensities),3))\r\n",
        "for ii in range(len(PPRs)):\r\n",
        "  PPRs[ii,0], PPRs[ii,1], PPRs[ii,2] = inten2Riso(intensities[ii],wavelength='UV',R_pup2ret=R_pup2ret[1])\r\n",
        "print (PPRs)"
      ],
      "execution_count": null,
      "outputs": [
        {
          "output_type": "stream",
          "text": [
            "UV channel, bright:\n",
            "[[1.40800000e-01 4.45177586e+15 3.67381847e+04]\n",
            " [5.02000000e-02 1.58720986e+15 1.30984153e+04]\n",
            " [2.16300000e-01 6.83891420e+15 5.64379926e+04]\n",
            " [7.28500000e-02 2.30335136e+15 1.90083576e+04]\n",
            " [3.82400000e-01 1.20906185e+16 9.97775699e+04]\n",
            " [1.71000000e-01 5.40663120e+15 4.46181079e+04]]\n"
          ],
          "name": "stdout"
        }
      ]
    },
    {
      "cell_type": "code",
      "metadata": {
        "id": "UT1FxsJSWGOP",
        "colab": {
          "base_uri": "https://localhost:8080/"
        },
        "outputId": "5e120f2e-ae71-4c32-9dbb-8ff327d61ad3"
      },
      "source": [
        "#UV channel, dark environment (twilight)\r\n",
        "print (\"UV channel, dark:\")\r\n",
        "intensities=[0.05, 0.02]\r\n",
        "PPRs=np.zeros((len(intensities),3))\r\n",
        "for ii in range(len(PPRs)):\r\n",
        "  PPRs[ii,0], PPRs[ii,1], PPRs[ii,2] = inten2Riso(intensities[ii],wavelength='UV',R_pup2ret=R_pup2ret[0])\r\n",
        "print (PPRs)"
      ],
      "execution_count": null,
      "outputs": [
        {
          "output_type": "stream",
          "text": [
            "UV channel, dark:\n",
            "[[4.26500000e-02 1.34849603e+15 1.11284345e+05]\n",
            " [2.00000000e-02 6.32354526e+14 5.21849215e+04]]\n"
          ],
          "name": "stdout"
        }
      ]
    },
    {
      "cell_type": "code",
      "metadata": {
        "colab": {
          "base_uri": "https://localhost:8080/"
        },
        "id": "0nvW_hpkz--l",
        "outputId": "3cbd2baa-c88e-4192-cf37-701e3d72d53a"
      },
      "source": [
        "#G channel, bright environment\r\n",
        "print (\"G channel, bright:\")\r\n",
        "intensities=[0.11, 0.14, 0.16, 0.21, 0.34, 0.46]\r\n",
        "PPRs=np.zeros((len(intensities),3))\r\n",
        "for ii in range(len(PPRs)):\r\n",
        "  PPRs[ii,0], PPRs[ii,1], PPRs[ii,2] = inten2Riso(intensities[ii],wavelength='G',R_pup2ret=R_pup2ret[1])\r\n",
        "print (PPRs)"
      ],
      "execution_count": null,
      "outputs": [
        {
          "output_type": "stream",
          "text": [
            "G channel, bright:\n",
            "[[7.30200000e-01 3.20656441e+15 4.15833062e+04]\n",
            " [9.26700000e-01 4.06946485e+15 5.27735550e+04]\n",
            " [1.05770000e+00 4.64473182e+15 6.02337208e+04]\n",
            " [1.38520000e+00 6.08289923e+15 7.88841355e+04]\n",
            " [2.23670000e+00 9.82213450e+15 1.27375214e+05]\n",
            " [3.02270000e+00 1.32737363e+16 1.72136209e+05]]\n"
          ],
          "name": "stdout"
        }
      ]
    },
    {
      "cell_type": "code",
      "metadata": {
        "colab": {
          "base_uri": "https://localhost:8080/"
        },
        "id": "KBAD9lpPz_I9",
        "outputId": "91fc7c3c-e0b4-4330-e52b-8b831285684a"
      },
      "source": [
        "#G channel, dark environment\r\n",
        "print (\"G channel, dark:\")\r\n",
        "intensities=[0.06, 0.05]\r\n",
        "PPRs=np.zeros((len(intensities),3))\r\n",
        "for ii in range(len(PPRs)):\r\n",
        "  PPRs[ii,0], PPRs[ii,1], PPRs[ii,2] = inten2Riso(intensities[ii],wavelength='G',R_pup2ret=R_pup2ret[0])\r\n",
        "print (PPRs)"
      ],
      "execution_count": null,
      "outputs": [
        {
          "output_type": "stream",
          "text": [
            "G channel, dark:\n",
            "[[4.02700000e-01 1.76839700e+15 2.29328915e+05]\n",
            " [3.37200000e-01 1.48076351e+15 1.92028086e+05]]\n"
          ],
          "name": "stdout"
        }
      ]
    },
    {
      "cell_type": "code",
      "metadata": {
        "id": "hWYVY-VfrGlq"
      },
      "source": [
        ""
      ],
      "execution_count": null,
      "outputs": []
    },
    {
      "cell_type": "code",
      "metadata": {
        "colab": {
          "base_uri": "https://localhost:8080/",
          "height": 130
        },
        "id": "y90NmaOs1_sm",
        "outputId": "5126ddf4-dad4-4d79-cf80-d97c68dca09e"
      },
      "source": [
        "# OLD VERSION, partially converted\r\n",
        "def inten2Riso(intensity_UV_G,\r\n",
        "               pup_area_mm2,\r\n",
        "               UV_peak=360, \r\n",
        "               mu_lens2image_UV=mu_lens2image_UV,\r\n",
        "               mu_lens2image_G=mu_lens2image_G,\r\n",
        "               T_UV=T_UV,\r\n",
        "               T_G=T_G):\r\n",
        "    \"\"\"\r\n",
        "    Transfer the normalized image intensities (0...1) to power (unit: uW), \r\n",
        "    photon flux (unit: photons/s) and photoisomerisation rate (P*/cone/s)\r\n",
        "\r\n",
        "    Input:\r\n",
        "    intensity_UV_G : image intensities (0...1) for both channels as tuple\r\n",
        "    pup_area       : pupil area in mm^2\r\n",
        "\r\n",
        "    Output:\r\n",
        "    P_el           : tuple (CHAN_UV, CHAN_G) \r\n",
        "    P_Phi          : tuple (CHAN_UV, CHAN_G) \r\n",
        "    R_Iso          : tuple (UV_S, UV_M, G_S, G_M)\r\n",
        "    \"\"\"\r\n",
        "    global d\r\n",
        "\r\n",
        "    h = 4.135667e-15          # Planck's constant [eV*s]\r\n",
        "    c = 299792458             # speed of light [m/s]\r\n",
        "    eV_per_J = 6.242e+18      # [eV] per [J]\r\n",
        "  \r\n",
        "    # Convert normalized image intensities (0...1) to power ([uW])\r\n",
        "    # (Constants from camera calibration, see STAR Methods for details)\r\n",
        "    P_el_UV = lambda x: x*0.755 + 0.0049\r\n",
        "    P_el_G = lambda x: x*6.550 + 0.0097  \r\n",
        "\r\n",
        "    # Convert electrical power ([uW]) to photon flux ([photons/s])\r\n",
        "    P_Phi_UV = lambda x: (x*1e-6) *eV_per_J *(360*1e-9)/(c*h) *(1/d[\"mu_lens2cam\"][CHAN_UV])\r\n",
        "    P_Phi_G = lambda x: (x*1e-6) *eV_per_J *(510*1e-9)/(c*h) *(1/d[\"mu_lens2cam\"][CHAN_G])\r\n",
        "\r\n",
        "    # Convert photon flux ([photons/s]) to photoisomerisation rate ([P*/cone/s])\r\n",
        "    R_pup2ret = pup_area_mm2 /d[\"ret_area_mm2\"]\r\n",
        "    R_Iso_UV_S = lambda x: x/d[\"A_stim_um2\"] *d[\"ac_um2\"]* d[\"S_act\"][UV_S] *d[\"T_rel\"][CHAN_UV] *R_pup2ret\r\n",
        "    R_Iso_UV_M = lambda x: x/d[\"A_stim_um2\"] *d[\"ac_um2\"]* d[\"S_act\"][UV_M] *d[\"T_rel\"][CHAN_UV] *R_pup2ret\r\n",
        "    R_Iso_G_S = lambda x: x/d[\"A_stim_um2\"] *d[\"ac_um2\"]* d[\"S_act\"][G_S] *d[\"T_rel\"][CHAN_G] *R_pup2ret \r\n",
        "    R_Iso_G_M = lambda x: x/d[\"A_stim_um2\"] *d[\"ac_um2\"]* d[\"S_act\"][G_S] *d[\"T_rel\"][CHAN_G] *R_pup2ret \r\n",
        "\r\n",
        "    if wavelength==\"UV\":\r\n",
        "        P_el = P_el_UV(intensity)\r\n",
        "        P_Phi= P_Phi_UV(P_el)\r\n",
        "        R_Iso= R_Iso_UV(P_Phi)\r\n",
        "    if wavelength==\"G\":\r\n",
        "        P_el = P_el_G(intensity)\r\n",
        "        P_Phi= P_Phi_G(P_el)\r\n",
        "        R_Iso= R_Iso_G(P_Phi)\r\n",
        "    return {\"UV\": [P_el, P_Phi, R_Iso],[]]"
      ],
      "execution_count": null,
      "outputs": [
        {
          "output_type": "error",
          "ename": "SyntaxError",
          "evalue": "ignored",
          "traceback": [
            "\u001b[0;36m  File \u001b[0;32m\"<ipython-input-150-9d0be5fa8107>\"\u001b[0;36m, line \u001b[0;32m52\u001b[0m\n\u001b[0;31m    return {\"UV\": [P_el, P_Phi, R_Iso],[]]\u001b[0m\n\u001b[0m                                         ^\u001b[0m\n\u001b[0;31mSyntaxError\u001b[0m\u001b[0;31m:\u001b[0m invalid syntax\n"
          ]
        }
      ]
    }
  ]
}